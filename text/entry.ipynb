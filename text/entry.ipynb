{
 "cells": [
  {
   "cell_type": "code",
   "execution_count": 8,
   "metadata": {},
   "outputs": [
    {
     "name": "stdout",
     "output_type": "stream",
     "text": [
      "The autoreload extension is already loaded. To reload it, use:\n",
      "  %reload_ext autoreload\n"
     ]
    }
   ],
   "source": [
    "%load_ext autoreload\n",
    "%autoreload 2"
   ]
  },
  {
   "cell_type": "code",
   "execution_count": 43,
   "metadata": {},
   "outputs": [],
   "source": [
    "with open(\"sleeping_beauty.txt\", 'r') as f:\n",
    "    lines = f.readlines()\n",
    "\n",
    "all_story = [line.strip() for line in lines]\n",
    "\n",
    "idx = 0\n",
    "document = all_story[idx]"
   ]
  },
  {
   "cell_type": "markdown",
   "metadata": {},
   "source": [
    "# LSA Summarizer"
   ]
  },
  {
   "cell_type": "code",
   "execution_count": 32,
   "metadata": {},
   "outputs": [
    {
     "data": {
      "text/plain": [
       "('A king and queen once upon a time reigned in a country a great way off, where there were in those days fairies.',)"
      ]
     },
     "execution_count": 32,
     "metadata": {},
     "output_type": "execute_result"
    }
   ],
   "source": [
    "from lsa_summarizer import LsaSummarizer\n",
    "\n",
    "lsa = LsaSummarizer()\n",
    "lsa(document, 1)"
   ]
  },
  {
   "cell_type": "markdown",
   "metadata": {},
   "source": [
    "# Transformer"
   ]
  },
  {
   "cell_type": "code",
   "execution_count": 33,
   "metadata": {},
   "outputs": [
    {
     "name": "stderr",
     "output_type": "stream",
     "text": [
      "Your max_length is set to 512, but you input_length is only 97. You might consider decreasing max_length manually, e.g. summarizer('...', max_length=48)\n"
     ]
    },
    {
     "data": {
      "text/plain": [
       "[{'summary_text': 'A King and Queen Once upon a Time Reigned In A Country A great Way Off, Where there were in these days fairies'}]"
      ]
     },
     "execution_count": 33,
     "metadata": {},
     "output_type": "execute_result"
    }
   ],
   "source": [
    "from pretrained_summarizer import T5StorySumSummarizer\n",
    "\n",
    "t5 = T5StorySumSummarizer()\n",
    "t5(document)"
   ]
  },
  {
   "cell_type": "code",
   "execution_count": 34,
   "metadata": {},
   "outputs": [
    {
     "name": "stderr",
     "output_type": "stream",
     "text": [
      "Your max_length is set to 142, but you input_length is only 89. You might consider decreasing max_length manually, e.g. summarizer('...', max_length=44)\n"
     ]
    },
    {
     "data": {
      "text/plain": [
       "[{'summary_text': 'A king and queen once upon a time reigned in a country a great way off, where there were in those days fairies. Though they had been married many years they had no children, and this grieved them very much indeed. They had plenty of money, and plenty of fine clothes to wear, and lots of good things to eat and drink.'}]"
      ]
     },
     "execution_count": 34,
     "metadata": {},
     "output_type": "execute_result"
    }
   ],
   "source": [
    "from pretrained_summarizer import BartSummarizer\n",
    "\n",
    "bart_cnn = BartSummarizer('cnn')\n",
    "bart_cnn(document)"
   ]
  },
  {
   "cell_type": "code",
   "execution_count": 35,
   "metadata": {},
   "outputs": [
    {
     "data": {
      "text/plain": [
       "[{'summary_text': 'A long time ago there was a king and queen, and they had no children, and this grieved them very much indeed.'}]"
      ]
     },
     "execution_count": 35,
     "metadata": {},
     "output_type": "execute_result"
    }
   ],
   "source": [
    "from pretrained_summarizer import BartSummarizer\n",
    "\n",
    "bart_xsum = BartSummarizer('xsum')\n",
    "bart_xsum(document)"
   ]
  },
  {
   "cell_type": "code",
   "execution_count": 36,
   "metadata": {},
   "outputs": [
    {
     "data": {
      "text/plain": [
       "[{'summary_text': ' X-Men is the story of a king and queen who have no children.'}]"
      ]
     },
     "execution_count": 36,
     "metadata": {},
     "output_type": "execute_result"
    }
   ],
   "source": [
    "from pretrained_summarizer import DistilBartSummarizer\n",
    "\n",
    "dbart_xsum = DistilBartSummarizer('xsum-12-3')\n",
    "dbart_xsum(document)"
   ]
  },
  {
   "cell_type": "code",
   "execution_count": 2,
   "metadata": {},
   "outputs": [
    {
     "name": "stderr",
     "output_type": "stream",
     "text": [
      "Your max_length is set to 142, but you input_length is only 132. You might consider decreasing max_length manually, e.g. summarizer('...', max_length=66)\n",
      "Your max_length is set to 142, but you input_length is only 93. You might consider decreasing max_length manually, e.g. summarizer('...', max_length=46)\n",
      "Your max_length is set to 142, but you input_length is only 85. You might consider decreasing max_length manually, e.g. summarizer('...', max_length=42)\n",
      "Your max_length is set to 142, but you input_length is only 118. You might consider decreasing max_length manually, e.g. summarizer('...', max_length=59)\n"
     ]
    }
   ],
   "source": [
    "from lsa_summarizer import LsaSummarizer\n",
    "from pretrained_summarizer import T5StorySumSummarizer\n",
    "from pretrained_summarizer import BartSummarizer\n",
    "from pretrained_summarizer import DistilBartSummarizer\n",
    "import warnings\n",
    "import time\n",
    "\n",
    "from unidecode import unidecode\n",
    "warnings.filterwarnings(\"ignore\")\n",
    "\n",
    "bart_cnn = BartSummarizer('cnn')\n",
    "name_base = 'match_sticks'\n",
    "\n",
    "with open(f\"{name_base}.txt\", 'r') as f:\n",
    "    lines = f.readlines()\n",
    "\n",
    "all_story = [unidecode(line.strip()) for line in lines]\n",
    "\n",
    "json = []\n",
    "\n",
    "sum_text = bart_cnn(all_story)\n",
    "\n",
    "for og, sum in zip(all_story, sum_text):\n",
    "    sum = sum['summary_text']\n",
    "    json.append({'original': og, 'summary': sum})\n"
   ]
  },
  {
   "cell_type": "code",
   "execution_count": 3,
   "metadata": {},
   "outputs": [],
   "source": [
    "from core.serialization import write_json\n",
    "from pathlib import Path\n",
    "seed = 5\n",
    "root_dir = Path('/deep2/u/yma42/StableDiffusionProject/docs/') / f'{name_base}_seed{seed}'\n",
    "root_dir.mkdir(parents=True, exist_ok=True)\n",
    "write_json(json, str(root_dir/'meta.json'))"
   ]
  },
  {
   "cell_type": "code",
   "execution_count": 10,
   "metadata": {},
   "outputs": [],
   "source": [
    "with open(\"rapunzel.txt\", 'r') as f:\n",
    "    lines = f.readlines()"
   ]
  },
  {
   "cell_type": "markdown",
   "metadata": {},
   "source": [
    "# Eval"
   ]
  },
  {
   "cell_type": "code",
   "execution_count": 16,
   "metadata": {},
   "outputs": [
    {
     "name": "stderr",
     "output_type": "stream",
     "text": [
      "Found cached dataset cnn_dailymail (/deep2/u/yma42/files/cache/huggingface/datasets/cnn_dailymail/3.0.0/3.0.0/1b3c71476f6d152c31c1730e83ccb08bcf23e348233f4fcc11e182248e6bf7de)\n"
     ]
    },
    {
     "data": {
      "application/vnd.jupyter.widget-view+json": {
       "model_id": "b3d319b36561463c95e2d363c22e842d",
       "version_major": 2,
       "version_minor": 0
      },
      "text/plain": [
       "  0%|          | 0/3 [00:00<?, ?it/s]"
      ]
     },
     "metadata": {},
     "output_type": "display_data"
    },
    {
     "name": "stderr",
     "output_type": "stream",
     "text": [
      "100%|██████████| 11490/11490 [02:06<00:00, 91.02it/s]"
     ]
    },
    {
     "name": "stdout",
     "output_type": "stream",
     "text": [
      "rouge1: 0.20485466384226367\n",
      "rouge2: 0.05031070289889757\n",
      "rougeL: 0.17852566935536796\n"
     ]
    },
    {
     "name": "stderr",
     "output_type": "stream",
     "text": [
      "\n"
     ]
    }
   ],
   "source": [
    "import rouge\n",
    "import numpy as np\n",
    "from lsa_summarizer import LsaSummarizer\n",
    "import pandas as pd\n",
    "\n",
    "import datasets\n",
    "from tqdm import tqdm\n",
    "\n",
    "dataset = datasets.load_dataset(\"cnn_dailymail\", '3.0.0')\n",
    "lst_dics = [dic for dic in dataset[\"test\"]]\n",
    "dtf = pd.DataFrame(lst_dics).rename(columns={\"article\":\"text\", \n",
    "      \"highlights\":\"y\"})[[\"text\",\"y\"]]\n",
    "\n",
    "def evaluate_summary(y_test, predicted, verbose=False):    \n",
    "    rouge_score = rouge.Rouge()    \n",
    "    scores = rouge_score.get_scores(y_test, predicted, avg=True)       \n",
    "    score_1 = scores['rouge-1']['f']\n",
    "    score_2 = scores['rouge-2']['f']\n",
    "    score_L = scores['rouge-l']['f']\n",
    "    if verbose:\n",
    "        print(\"rouge1:\", score_1, \"| rouge2:\", score_2, \"| rougeL:\", score_2, \"--> avg rouge:\", round(np.mean( [score_1,score_2,score_L]), 2))\n",
    "    return score_1, score_2, score_L\n",
    "\n",
    "lsa = LsaSummarizer()\n",
    "\n",
    "r1, r2, rl = 0, 0, 0\n",
    "for text, y in tqdm(zip(dtf['text'], dtf['y']), total=len(dtf['text'])):\n",
    "    pred = lsa(text, 1)[0]\n",
    "    rouge_score = evaluate_summary(y, pred)\n",
    "    r1 += rouge_score[0]\n",
    "    r2 += rouge_score[1]\n",
    "    rl += rouge_score[2]\n",
    "\n",
    "print(f'rouge1: {r1/len(dtf[\"text\"])}')\n",
    "print(f'rouge2: {r2/len(dtf[\"text\"])}')\n",
    "print(f'rougeL: {rl/len(dtf[\"text\"])}')\n",
    "\n",
    "    "
   ]
  },
  {
   "cell_type": "code",
   "execution_count": 14,
   "metadata": {},
   "outputs": [
    {
     "data": {
      "text/plain": [
       "11490"
      ]
     },
     "execution_count": 14,
     "metadata": {},
     "output_type": "execute_result"
    }
   ],
   "source": [
    "len(dtf['text'])"
   ]
  },
  {
   "cell_type": "code",
   "execution_count": 13,
   "metadata": {},
   "outputs": [
    {
     "data": {
      "text/plain": [
       "'While a preliminary examination is not a formal investigation, it allows the court to review evidence and determine whether to investigate suspects on both sides.'"
      ]
     },
     "execution_count": 13,
     "metadata": {},
     "output_type": "execute_result"
    }
   ],
   "source": [
    "pred"
   ]
  },
  {
   "cell_type": "code",
   "execution_count": null,
   "metadata": {},
   "outputs": [],
   "source": []
  }
 ],
 "metadata": {
  "kernelspec": {
   "display_name": "Python 3.9.13 (conda)",
   "language": "python",
   "name": "python3"
  },
  "language_info": {
   "codemirror_mode": {
    "name": "ipython",
    "version": 3
   },
   "file_extension": ".py",
   "mimetype": "text/x-python",
   "name": "python",
   "nbconvert_exporter": "python",
   "pygments_lexer": "ipython3",
   "version": "3.9.13"
  },
  "orig_nbformat": 4,
  "vscode": {
   "interpreter": {
    "hash": "34c766efb3cdeee8674807e33bf5c996af966171af4483c2af6a875a9d38b60a"
   }
  }
 },
 "nbformat": 4,
 "nbformat_minor": 2
}
