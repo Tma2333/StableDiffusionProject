{
 "cells": [
  {
   "cell_type": "markdown",
   "metadata": {},
   "source": [
    "# Data"
   ]
  },
  {
   "cell_type": "code",
   "execution_count": 12,
   "metadata": {},
   "outputs": [],
   "source": [
    "import pickle\n",
    "\n",
    "file = '/deep2/u/yma42/StableDiffusionProject/label_imbalance/data/cifar-10-batches-py/data_batch_1'\n",
    "\n",
    "def unpickle(file):\n",
    "    with open(file, 'rb') as fo:\n",
    "        dict = pickle.load(fo, encoding='bytes')\n",
    "    return dict\n",
    "\n",
    "batch1 = unpickle(file)"
   ]
  },
  {
   "cell_type": "code",
   "execution_count": 13,
   "metadata": {},
   "outputs": [
    {
     "data": {
      "text/plain": [
       "array([ 59,  43,  50, ..., 140,  84,  72], dtype=uint8)"
      ]
     },
     "execution_count": 13,
     "metadata": {},
     "output_type": "execute_result"
    }
   ],
   "source": [
    "batch1[b'data'][0]"
   ]
  },
  {
   "cell_type": "code",
   "execution_count": 1,
   "metadata": {},
   "outputs": [],
   "source": [
    "import pickle\n",
    "from pathlib import Path\n",
    "\n",
    "import numpy as np\n",
    "from torch.utils.data import Dataset\n",
    "from torchvision import transforms \n",
    "\n",
    "\n",
    "def unpickle(file):\n",
    "    with open(file, 'rb') as fo:\n",
    "        dict = pickle.load(fo, encoding='bytes')\n",
    "    return dict\n",
    "\n",
    "\n",
    "def parse_cifar_data (root_dir: str):\n",
    "    root_dir = Path(root_dir)\n",
    "    labels = []\n",
    "    data = []\n",
    "    for batch in root_dir.glob('data_batch_*'):\n",
    "        raw_batch = unpickle(str(batch))\n",
    "        labels.append(raw_batch[b'labels'])\n",
    "        data.append(raw_batch[b'data'])\n",
    "    train_labels = np.concatenate(labels)\n",
    "    train_data = np.concatenate(data)\n",
    "    train_data = train_data.reshape(len(train_data), 3, 32, 32).transpose(0,2,3,1)\n",
    "\n",
    "    raw_batch = unpickle(str(root_dir/'test_batch'))\n",
    "    test_labels = np.array(raw_batch[b'labels'])\n",
    "    test_data = raw_batch[b'data']\n",
    "    test_data = test_data.reshape(len(test_data), 3, 32, 32).transpose(0,2,3,1)\n",
    "\n",
    "    meta_data = unpickle(str(root_dir/'batches.meta'))\n",
    "    label_mapping = {class_name.decode('utf-8'): i for i, class_name in enumerate(meta_data[b'label_names'])}\n",
    "    index_mapping = {i: class_name.decode('utf-8') for i, class_name in enumerate(meta_data[b'label_names'])}\n",
    "\n",
    "    return train_data, train_labels, test_data, test_labels, label_mapping, index_mapping\n",
    "\n",
    "\n",
    "class CIFAR10FullDataset(Dataset):\n",
    "    MEAN = (0.49139968, 0.48215827, 0.44653124)\n",
    "    STD = (0.24703233, 0.24348505, 0.26158768)\n",
    "    def __init__(self, base_path: str = None, is_train: bool = True, standardize: bool = True ):\n",
    "        if base_path is None:\n",
    "            base_path = '/deep2/u/yma42/StableDiffusionProject/label_imbalance/data/cifar-10-batches-py'\n",
    "        \n",
    "        train_data, train_labels, test_data, test_labels, self.label_mapping, self.index_mapping = parse_cifar_data(base_path)\n",
    "\n",
    "        if is_train:\n",
    "            self.data = train_data\n",
    "            self.labels = train_labels\n",
    "        else:\n",
    "            self.data = test_data\n",
    "            self.labels = test_labels\n",
    "\n",
    "        t = []\n",
    "        t.append(transforms.ToTensor())\n",
    "\n",
    "        if standardize:\n",
    "            t.append(transforms.Normalize(mean=self.MEAN, std=self.STD))\n",
    "\n",
    "        self.preprocessing = transforms.Compose(t)\n",
    "\n",
    "\n",
    "    def __len__(self):\n",
    "        return len(self.data)\n",
    "\n",
    "\n",
    "    def __getitem__(self, idx):\n",
    "        x = self.data[idx]\n",
    "        y = self.labels[idx]\n",
    "        x = self.preprocessing(x)\n",
    "        return x, y\n",
    "\n",
    "\n",
    "class CIFAR10ImbalanceDataset (CIFAR10FullDataset):\n",
    "    def __init__(self, base_path: str = None, is_train: bool = True, standardize: bool = True, \n",
    "                       target_cls: int = 0, remove_ratio: float = 0.99):\n",
    "        super().__init__(base_path, is_train, standardize)\n",
    "        assert is_train, f'You should only use this dataset for trinaing'\n",
    "\n",
    "        self.target_cls = target_cls\n",
    "        # find all class idx\n",
    "        cls_idx = np.where(self.labels==target_cls)[0]\n",
    "        num_per_cls = len(cls_idx)\n",
    "        num_to_remove = int(num_per_cls * remove_ratio) \n",
    "        # randomly pick sample to removec\n",
    "        idx = np.random.choice(num_per_cls, num_to_remove, replace=False)\n",
    "        idx_to_remove = cls_idx[idx] \n",
    "        subset_idx = np.ones(len(self.data), dtype=np.bool8)\n",
    "        subset_idx[idx_to_remove] = False\n",
    "        self.data = self.data[subset_idx]\n",
    "        self.labels = self.labels[subset_idx]\n",
    "        \n",
    "\n",
    "\n"
   ]
  },
  {
   "cell_type": "code",
   "execution_count": 17,
   "metadata": {},
   "outputs": [],
   "source": [
    "root_dir = '/deep2/u/yma42/StableDiffusionProject/label_imbalance/data/cifar-10-batches-py'\n",
    "dataset = CIFAR10FullDataset(root_dir, standardize=False)"
   ]
  },
  {
   "cell_type": "code",
   "execution_count": 86,
   "metadata": {},
   "outputs": [],
   "source": [
    "root_dir = '/deep2/u/yma42/StableDiffusionProject/label_imbalance/data/cifar-10-batches-py'\n",
    "train_data, train_labels, test_data, test_labels, label_mapping, index_mapping = parse_cifar_data(root_dir)"
   ]
  },
  {
   "cell_type": "code",
   "execution_count": 94,
   "metadata": {},
   "outputs": [],
   "source": [
    "target = 2\n",
    "cls_idx = np.where(train_labels==target)[0]\n",
    "num_per_cls = len(cls_idx)\n",
    "num_to_remove = int(num_per_cls * 0.99) \n",
    "idx = np.random.choice(num_per_cls, num_to_remove, replace=False)\n",
    "idx_to_remove = cls_idx[idx] \n",
    "subset_idx = np.ones(len(train_data), dtype=np.bool8)\n",
    "subset_idx[idx_to_remove] = False\n",
    "data = train_data[subset_idx]\n",
    "label = train_labels[subset_idx]"
   ]
  },
  {
   "cell_type": "code",
   "execution_count": 97,
   "metadata": {},
   "outputs": [
    {
     "data": {
      "text/plain": [
       "(array([5000., 5000.,   50., 5000., 5000., 5000., 5000., 5000., 5000.,\n",
       "        5000.]),\n",
       " array([0. , 0.9, 1.8, 2.7, 3.6, 4.5, 5.4, 6.3, 7.2, 8.1, 9. ]),\n",
       " <BarContainer object of 10 artists>)"
      ]
     },
     "execution_count": 97,
     "metadata": {},
     "output_type": "execute_result"
    },
    {
     "data": {
      "image/png": "[encoded data removed]",
      "text/plain": [
       "<Figure size 640x480 with 1 Axes>"
      ]
     },
     "metadata": {},
     "output_type": "display_data"
    }
   ],
   "source": [
    "import matplotlib.pyplot as plt \n",
    "\n",
    "plt.hist(label)"
   ]
  },
  {
   "cell_type": "code",
   "execution_count": 50,
   "metadata": {},
   "outputs": [
    {
     "data": {
      "text/plain": [
       "(-0.5, 31.5, 31.5, -0.5)"
      ]
     },
     "execution_count": 50,
     "metadata": {},
     "output_type": "execute_result"
    },
    {
     "data": {
      "image/png": "[encoded data removed]",
      "text/plain": [
       "<Figure size 640x480 with 1 Axes>"
      ]
     },
     "metadata": {},
     "output_type": "display_data"
    }
   ],
   "source": [
    "import matplotlib.pyplot as plt \n",
    "idx = np.random.choice(50000, 1)\n",
    "x, y = dataset[idx[0]]\n",
    "plt.imshow(x.permute(1, 2, 0))\n",
    "plt.title(dataset.index_mapping[y])\n",
    "plt.axis('off')"
   ]
  },
  {
   "cell_type": "code",
   "execution_count": 44,
   "metadata": {},
   "outputs": [
    {
     "data": {
      "text/plain": [
       "array([False, False, False, ..., False, False, False])"
      ]
     },
     "execution_count": 44,
     "metadata": {},
     "output_type": "execute_result"
    }
   ],
   "source": [
    "x.permute"
   ]
  },
  {
   "cell_type": "markdown",
   "metadata": {},
   "source": [
    "# Model"
   ]
  },
  {
   "cell_type": "code",
   "execution_count": 105,
   "metadata": {},
   "outputs": [],
   "source": [
    "import timm\n",
    "\n",
    "def create_model (cfg): \n",
    "    model = timm.create_model('resnet50', num_classes=10)\n",
    "    return model"
   ]
  },
  {
   "cell_type": "code",
   "execution_count": 104,
   "metadata": {},
   "outputs": [
    {
     "data": {
      "text/plain": [
       "==========================================================================================\n",
       "Layer (type:depth-idx)                   Output Shape              Param #\n",
       "==========================================================================================\n",
       "ResNet                                   [4096, 10]                --\n",
       "├─Conv2d: 1-1                            [4096, 64, 16, 16]        9,408\n",
       "├─BatchNorm2d: 1-2                       [4096, 64, 16, 16]        128\n",
       "├─ReLU: 1-3                              [4096, 64, 16, 16]        --\n",
       "├─MaxPool2d: 1-4                         [4096, 64, 8, 8]          --\n",
       "├─Sequential: 1-5                        [4096, 256, 8, 8]         --\n",
       "│    └─Bottleneck: 2-1                   [4096, 256, 8, 8]         --\n",
       "│    │    └─Conv2d: 3-1                  [4096, 64, 8, 8]          4,096\n",
       "│    │    └─BatchNorm2d: 3-2             [4096, 64, 8, 8]          128\n",
       "│    │    └─ReLU: 3-3                    [4096, 64, 8, 8]          --\n",
       "│    │    └─Conv2d: 3-4                  [4096, 64, 8, 8]          36,864\n",
       "│    │    └─BatchNorm2d: 3-5             [4096, 64, 8, 8]          128\n",
       "│    │    └─Identity: 3-6                [4096, 64, 8, 8]          --\n",
       "│    │    └─ReLU: 3-7                    [4096, 64, 8, 8]          --\n",
       "│    │    └─Identity: 3-8                [4096, 64, 8, 8]          --\n",
       "│    │    └─Conv2d: 3-9                  [4096, 256, 8, 8]         16,384\n",
       "│    │    └─BatchNorm2d: 3-10            [4096, 256, 8, 8]         512\n",
       "│    │    └─Sequential: 3-11             [4096, 256, 8, 8]         16,896\n",
       "│    │    └─ReLU: 3-12                   [4096, 256, 8, 8]         --\n",
       "│    └─Bottleneck: 2-2                   [4096, 256, 8, 8]         --\n",
       "│    │    └─Conv2d: 3-13                 [4096, 64, 8, 8]          16,384\n",
       "│    │    └─BatchNorm2d: 3-14            [4096, 64, 8, 8]          128\n",
       "│    │    └─ReLU: 3-15                   [4096, 64, 8, 8]          --\n",
       "│    │    └─Conv2d: 3-16                 [4096, 64, 8, 8]          36,864\n",
       "│    │    └─BatchNorm2d: 3-17            [4096, 64, 8, 8]          128\n",
       "│    │    └─Identity: 3-18               [4096, 64, 8, 8]          --\n",
       "│    │    └─ReLU: 3-19                   [4096, 64, 8, 8]          --\n",
       "│    │    └─Identity: 3-20               [4096, 64, 8, 8]          --\n",
       "│    │    └─Conv2d: 3-21                 [4096, 256, 8, 8]         16,384\n",
       "│    │    └─BatchNorm2d: 3-22            [4096, 256, 8, 8]         512\n",
       "│    │    └─ReLU: 3-23                   [4096, 256, 8, 8]         --\n",
       "│    └─Bottleneck: 2-3                   [4096, 256, 8, 8]         --\n",
       "│    │    └─Conv2d: 3-24                 [4096, 64, 8, 8]          16,384\n",
       "│    │    └─BatchNorm2d: 3-25            [4096, 64, 8, 8]          128\n",
       "│    │    └─ReLU: 3-26                   [4096, 64, 8, 8]          --\n",
       "│    │    └─Conv2d: 3-27                 [4096, 64, 8, 8]          36,864\n",
       "│    │    └─BatchNorm2d: 3-28            [4096, 64, 8, 8]          128\n",
       "│    │    └─Identity: 3-29               [4096, 64, 8, 8]          --\n",
       "│    │    └─ReLU: 3-30                   [4096, 64, 8, 8]          --\n",
       "│    │    └─Identity: 3-31               [4096, 64, 8, 8]          --\n",
       "│    │    └─Conv2d: 3-32                 [4096, 256, 8, 8]         16,384\n",
       "│    │    └─BatchNorm2d: 3-33            [4096, 256, 8, 8]         512\n",
       "│    │    └─ReLU: 3-34                   [4096, 256, 8, 8]         --\n",
       "├─Sequential: 1-6                        [4096, 512, 4, 4]         --\n",
       "│    └─Bottleneck: 2-4                   [4096, 512, 4, 4]         --\n",
       "│    │    └─Conv2d: 3-35                 [4096, 128, 8, 8]         32,768\n",
       "│    │    └─BatchNorm2d: 3-36            [4096, 128, 8, 8]         256\n",
       "│    │    └─ReLU: 3-37                   [4096, 128, 8, 8]         --\n",
       "│    │    └─Conv2d: 3-38                 [4096, 128, 4, 4]         147,456\n",
       "│    │    └─BatchNorm2d: 3-39            [4096, 128, 4, 4]         256\n",
       "│    │    └─Identity: 3-40               [4096, 128, 4, 4]         --\n",
       "│    │    └─ReLU: 3-41                   [4096, 128, 4, 4]         --\n",
       "│    │    └─Identity: 3-42               [4096, 128, 4, 4]         --\n",
       "│    │    └─Conv2d: 3-43                 [4096, 512, 4, 4]         65,536\n",
       "│    │    └─BatchNorm2d: 3-44            [4096, 512, 4, 4]         1,024\n",
       "│    │    └─Sequential: 3-45             [4096, 512, 4, 4]         132,096\n",
       "│    │    └─ReLU: 3-46                   [4096, 512, 4, 4]         --\n",
       "│    └─Bottleneck: 2-5                   [4096, 512, 4, 4]         --\n",
       "│    │    └─Conv2d: 3-47                 [4096, 128, 4, 4]         65,536\n",
       "│    │    └─BatchNorm2d: 3-48            [4096, 128, 4, 4]         256\n",
       "│    │    └─ReLU: 3-49                   [4096, 128, 4, 4]         --\n",
       "│    │    └─Conv2d: 3-50                 [4096, 128, 4, 4]         147,456\n",
       "│    │    └─BatchNorm2d: 3-51            [4096, 128, 4, 4]         256\n",
       "│    │    └─Identity: 3-52               [4096, 128, 4, 4]         --\n",
       "│    │    └─ReLU: 3-53                   [4096, 128, 4, 4]         --\n",
       "│    │    └─Identity: 3-54               [4096, 128, 4, 4]         --\n",
       "│    │    └─Conv2d: 3-55                 [4096, 512, 4, 4]         65,536\n",
       "│    │    └─BatchNorm2d: 3-56            [4096, 512, 4, 4]         1,024\n",
       "│    │    └─ReLU: 3-57                   [4096, 512, 4, 4]         --\n",
       "│    └─Bottleneck: 2-6                   [4096, 512, 4, 4]         --\n",
       "│    │    └─Conv2d: 3-58                 [4096, 128, 4, 4]         65,536\n",
       "│    │    └─BatchNorm2d: 3-59            [4096, 128, 4, 4]         256\n",
       "│    │    └─ReLU: 3-60                   [4096, 128, 4, 4]         --\n",
       "│    │    └─Conv2d: 3-61                 [4096, 128, 4, 4]         147,456\n",
       "│    │    └─BatchNorm2d: 3-62            [4096, 128, 4, 4]         256\n",
       "│    │    └─Identity: 3-63               [4096, 128, 4, 4]         --\n",
       "│    │    └─ReLU: 3-64                   [4096, 128, 4, 4]         --\n",
       "│    │    └─Identity: 3-65               [4096, 128, 4, 4]         --\n",
       "│    │    └─Conv2d: 3-66                 [4096, 512, 4, 4]         65,536\n",
       "│    │    └─BatchNorm2d: 3-67            [4096, 512, 4, 4]         1,024\n",
       "│    │    └─ReLU: 3-68                   [4096, 512, 4, 4]         --\n",
       "│    └─Bottleneck: 2-7                   [4096, 512, 4, 4]         --\n",
       "│    │    └─Conv2d: 3-69                 [4096, 128, 4, 4]         65,536\n",
       "│    │    └─BatchNorm2d: 3-70            [4096, 128, 4, 4]         256\n",
       "│    │    └─ReLU: 3-71                   [4096, 128, 4, 4]         --\n",
       "│    │    └─Conv2d: 3-72                 [4096, 128, 4, 4]         147,456\n",
       "│    │    └─BatchNorm2d: 3-73            [4096, 128, 4, 4]         256\n",
       "│    │    └─Identity: 3-74               [4096, 128, 4, 4]         --\n",
       "│    │    └─ReLU: 3-75                   [4096, 128, 4, 4]         --\n",
       "│    │    └─Identity: 3-76               [4096, 128, 4, 4]         --\n",
       "│    │    └─Conv2d: 3-77                 [4096, 512, 4, 4]         65,536\n",
       "│    │    └─BatchNorm2d: 3-78            [4096, 512, 4, 4]         1,024\n",
       "│    │    └─ReLU: 3-79                   [4096, 512, 4, 4]         --\n",
       "├─Sequential: 1-7                        [4096, 1024, 2, 2]        --\n",
       "│    └─Bottleneck: 2-8                   [4096, 1024, 2, 2]        --\n",
       "│    │    └─Conv2d: 3-80                 [4096, 256, 4, 4]         131,072\n",
       "│    │    └─BatchNorm2d: 3-81            [4096, 256, 4, 4]         512\n",
       "│    │    └─ReLU: 3-82                   [4096, 256, 4, 4]         --\n",
       "│    │    └─Conv2d: 3-83                 [4096, 256, 2, 2]         589,824\n",
       "│    │    └─BatchNorm2d: 3-84            [4096, 256, 2, 2]         512\n",
       "│    │    └─Identity: 3-85               [4096, 256, 2, 2]         --\n",
       "│    │    └─ReLU: 3-86                   [4096, 256, 2, 2]         --\n",
       "│    │    └─Identity: 3-87               [4096, 256, 2, 2]         --\n",
       "│    │    └─Conv2d: 3-88                 [4096, 1024, 2, 2]        262,144\n",
       "│    │    └─BatchNorm2d: 3-89            [4096, 1024, 2, 2]        2,048\n",
       "│    │    └─Sequential: 3-90             [4096, 1024, 2, 2]        526,336\n",
       "│    │    └─ReLU: 3-91                   [4096, 1024, 2, 2]        --\n",
       "│    └─Bottleneck: 2-9                   [4096, 1024, 2, 2]        --\n",
       "│    │    └─Conv2d: 3-92                 [4096, 256, 2, 2]         262,144\n",
       "│    │    └─BatchNorm2d: 3-93            [4096, 256, 2, 2]         512\n",
       "│    │    └─ReLU: 3-94                   [4096, 256, 2, 2]         --\n",
       "│    │    └─Conv2d: 3-95                 [4096, 256, 2, 2]         589,824\n",
       "│    │    └─BatchNorm2d: 3-96            [4096, 256, 2, 2]         512\n",
       "│    │    └─Identity: 3-97               [4096, 256, 2, 2]         --\n",
       "│    │    └─ReLU: 3-98                   [4096, 256, 2, 2]         --\n",
       "│    │    └─Identity: 3-99               [4096, 256, 2, 2]         --\n",
       "│    │    └─Conv2d: 3-100                [4096, 1024, 2, 2]        262,144\n",
       "│    │    └─BatchNorm2d: 3-101           [4096, 1024, 2, 2]        2,048\n",
       "│    │    └─ReLU: 3-102                  [4096, 1024, 2, 2]        --\n",
       "│    └─Bottleneck: 2-10                  [4096, 1024, 2, 2]        --\n",
       "│    │    └─Conv2d: 3-103                [4096, 256, 2, 2]         262,144\n",
       "│    │    └─BatchNorm2d: 3-104           [4096, 256, 2, 2]         512\n",
       "│    │    └─ReLU: 3-105                  [4096, 256, 2, 2]         --\n",
       "│    │    └─Conv2d: 3-106                [4096, 256, 2, 2]         589,824\n",
       "│    │    └─BatchNorm2d: 3-107           [4096, 256, 2, 2]         512\n",
       "│    │    └─Identity: 3-108              [4096, 256, 2, 2]         --\n",
       "│    │    └─ReLU: 3-109                  [4096, 256, 2, 2]         --\n",
       "│    │    └─Identity: 3-110              [4096, 256, 2, 2]         --\n",
       "│    │    └─Conv2d: 3-111                [4096, 1024, 2, 2]        262,144\n",
       "│    │    └─BatchNorm2d: 3-112           [4096, 1024, 2, 2]        2,048\n",
       "│    │    └─ReLU: 3-113                  [4096, 1024, 2, 2]        --\n",
       "│    └─Bottleneck: 2-11                  [4096, 1024, 2, 2]        --\n",
       "│    │    └─Conv2d: 3-114                [4096, 256, 2, 2]         262,144\n",
       "│    │    └─BatchNorm2d: 3-115           [4096, 256, 2, 2]         512\n",
       "│    │    └─ReLU: 3-116                  [4096, 256, 2, 2]         --\n",
       "│    │    └─Conv2d: 3-117                [4096, 256, 2, 2]         589,824\n",
       "│    │    └─BatchNorm2d: 3-118           [4096, 256, 2, 2]         512\n",
       "│    │    └─Identity: 3-119              [4096, 256, 2, 2]         --\n",
       "│    │    └─ReLU: 3-120                  [4096, 256, 2, 2]         --\n",
       "│    │    └─Identity: 3-121              [4096, 256, 2, 2]         --\n",
       "│    │    └─Conv2d: 3-122                [4096, 1024, 2, 2]        262,144\n",
       "│    │    └─BatchNorm2d: 3-123           [4096, 1024, 2, 2]        2,048\n",
       "│    │    └─ReLU: 3-124                  [4096, 1024, 2, 2]        --\n",
       "│    └─Bottleneck: 2-12                  [4096, 1024, 2, 2]        --\n",
       "│    │    └─Conv2d: 3-125                [4096, 256, 2, 2]         262,144\n",
       "│    │    └─BatchNorm2d: 3-126           [4096, 256, 2, 2]         512\n",
       "│    │    └─ReLU: 3-127                  [4096, 256, 2, 2]         --\n",
       "│    │    └─Conv2d: 3-128                [4096, 256, 2, 2]         589,824\n",
       "│    │    └─BatchNorm2d: 3-129           [4096, 256, 2, 2]         512\n",
       "│    │    └─Identity: 3-130              [4096, 256, 2, 2]         --\n",
       "│    │    └─ReLU: 3-131                  [4096, 256, 2, 2]         --\n",
       "│    │    └─Identity: 3-132              [4096, 256, 2, 2]         --\n",
       "│    │    └─Conv2d: 3-133                [4096, 1024, 2, 2]        262,144\n",
       "│    │    └─BatchNorm2d: 3-134           [4096, 1024, 2, 2]        2,048\n",
       "│    │    └─ReLU: 3-135                  [4096, 1024, 2, 2]        --\n",
       "│    └─Bottleneck: 2-13                  [4096, 1024, 2, 2]        --\n",
       "│    │    └─Conv2d: 3-136                [4096, 256, 2, 2]         262,144\n",
       "│    │    └─BatchNorm2d: 3-137           [4096, 256, 2, 2]         512\n",
       "│    │    └─ReLU: 3-138                  [4096, 256, 2, 2]         --\n",
       "│    │    └─Conv2d: 3-139                [4096, 256, 2, 2]         589,824\n",
       "│    │    └─BatchNorm2d: 3-140           [4096, 256, 2, 2]         512\n",
       "│    │    └─Identity: 3-141              [4096, 256, 2, 2]         --\n",
       "│    │    └─ReLU: 3-142                  [4096, 256, 2, 2]         --\n",
       "│    │    └─Identity: 3-143              [4096, 256, 2, 2]         --\n",
       "│    │    └─Conv2d: 3-144                [4096, 1024, 2, 2]        262,144\n",
       "│    │    └─BatchNorm2d: 3-145           [4096, 1024, 2, 2]        2,048\n",
       "│    │    └─ReLU: 3-146                  [4096, 1024, 2, 2]        --\n",
       "├─Sequential: 1-8                        [4096, 2048, 1, 1]        --\n",
       "│    └─Bottleneck: 2-14                  [4096, 2048, 1, 1]        --\n",
       "│    │    └─Conv2d: 3-147                [4096, 512, 2, 2]         524,288\n",
       "│    │    └─BatchNorm2d: 3-148           [4096, 512, 2, 2]         1,024\n",
       "│    │    └─ReLU: 3-149                  [4096, 512, 2, 2]         --\n",
       "│    │    └─Conv2d: 3-150                [4096, 512, 1, 1]         2,359,296\n",
       "│    │    └─BatchNorm2d: 3-151           [4096, 512, 1, 1]         1,024\n",
       "│    │    └─Identity: 3-152              [4096, 512, 1, 1]         --\n",
       "│    │    └─ReLU: 3-153                  [4096, 512, 1, 1]         --\n",
       "│    │    └─Identity: 3-154              [4096, 512, 1, 1]         --\n",
       "│    │    └─Conv2d: 3-155                [4096, 2048, 1, 1]        1,048,576\n",
       "│    │    └─BatchNorm2d: 3-156           [4096, 2048, 1, 1]        4,096\n",
       "│    │    └─Sequential: 3-157            [4096, 2048, 1, 1]        2,101,248\n",
       "│    │    └─ReLU: 3-158                  [4096, 2048, 1, 1]        --\n",
       "│    └─Bottleneck: 2-15                  [4096, 2048, 1, 1]        --\n",
       "│    │    └─Conv2d: 3-159                [4096, 512, 1, 1]         1,048,576\n",
       "│    │    └─BatchNorm2d: 3-160           [4096, 512, 1, 1]         1,024\n",
       "│    │    └─ReLU: 3-161                  [4096, 512, 1, 1]         --\n",
       "│    │    └─Conv2d: 3-162                [4096, 512, 1, 1]         2,359,296\n",
       "│    │    └─BatchNorm2d: 3-163           [4096, 512, 1, 1]         1,024\n",
       "│    │    └─Identity: 3-164              [4096, 512, 1, 1]         --\n",
       "│    │    └─ReLU: 3-165                  [4096, 512, 1, 1]         --\n",
       "│    │    └─Identity: 3-166              [4096, 512, 1, 1]         --\n",
       "│    │    └─Conv2d: 3-167                [4096, 2048, 1, 1]        1,048,576\n",
       "│    │    └─BatchNorm2d: 3-168           [4096, 2048, 1, 1]        4,096\n",
       "│    │    └─ReLU: 3-169                  [4096, 2048, 1, 1]        --\n",
       "│    └─Bottleneck: 2-16                  [4096, 2048, 1, 1]        --\n",
       "│    │    └─Conv2d: 3-170                [4096, 512, 1, 1]         1,048,576\n",
       "│    │    └─BatchNorm2d: 3-171           [4096, 512, 1, 1]         1,024\n",
       "│    │    └─ReLU: 3-172                  [4096, 512, 1, 1]         --\n",
       "│    │    └─Conv2d: 3-173                [4096, 512, 1, 1]         2,359,296\n",
       "│    │    └─BatchNorm2d: 3-174           [4096, 512, 1, 1]         1,024\n",
       "│    │    └─Identity: 3-175              [4096, 512, 1, 1]         --\n",
       "│    │    └─ReLU: 3-176                  [4096, 512, 1, 1]         --\n",
       "│    │    └─Identity: 3-177              [4096, 512, 1, 1]         --\n",
       "│    │    └─Conv2d: 3-178                [4096, 2048, 1, 1]        1,048,576\n",
       "│    │    └─BatchNorm2d: 3-179           [4096, 2048, 1, 1]        4,096\n",
       "│    │    └─ReLU: 3-180                  [4096, 2048, 1, 1]        --\n",
       "├─SelectAdaptivePool2d: 1-9              [4096, 2048]              --\n",
       "│    └─AdaptiveAvgPool2d: 2-17           [4096, 2048, 1, 1]        --\n",
       "│    └─Flatten: 2-18                     [4096, 2048]              --\n",
       "├─Linear: 1-10                           [4096, 10]                20,490\n",
       "==========================================================================================\n",
       "Total params: 23,528,522\n",
       "Trainable params: 23,528,522\n",
       "Non-trainable params: 0\n",
       "Total mult-adds (G): 341.95\n",
       "==========================================================================================\n",
       "Input size (MB): 50.33\n",
       "Forward/backward pass size (MB): 14864.94\n",
       "Params size (MB): 94.11\n",
       "Estimated Total Size (MB): 15009.39\n",
       "=========================================================================================="
      ]
     },
     "execution_count": 104,
     "metadata": {},
     "output_type": "execute_result"
    }
   ],
   "source": [
    "from torchinfo import summary\n",
    "\n",
    "summary(model, (4096, 3, 32, 32))"
   ]
  },
  {
   "cell_type": "code",
   "execution_count": 1,
   "metadata": {},
   "outputs": [
    {
     "ename": "ImportError",
     "evalue": "attempted relative import with no known parent package",
     "output_type": "error",
     "traceback": [
      "\u001b[0;31m---------------------------------------------------------------------------\u001b[0m",
      "\u001b[0;31mImportError\u001b[0m                               Traceback (most recent call last)",
      "Cell \u001b[0;32mIn [1], line 1\u001b[0m\n\u001b[0;32m----> 1\u001b[0m \u001b[39mfrom\u001b[39;00m \u001b[39m.\u001b[39;00m\u001b[39mdataset\u001b[39;00m \u001b[39mimport\u001b[39;00m CIFAR10FullDataset, CIFAR10ImbalanceDataset\n\u001b[1;32m      3\u001b[0m \u001b[39mglobals\u001b[39m()\n",
      "\u001b[0;31mImportError\u001b[0m: attempted relative import with no known parent package"
     ]
    }
   ],
   "source": [
    "\n",
    "from .dataset import CIFAR10FullDataset, CIFAR10ImbalanceDataset\n",
    "\n",
    "globals()"
   ]
  },
  {
   "cell_type": "code",
   "execution_count": 2,
   "metadata": {},
   "outputs": [
    {
     "ename": "ImportError",
     "evalue": "attempted relative import with no known parent package",
     "output_type": "error",
     "traceback": [
      "\u001b[0;31m---------------------------------------------------------------------------\u001b[0m",
      "\u001b[0;31mImportError\u001b[0m                               Traceback (most recent call last)",
      "Cell \u001b[0;32mIn [2], line 1\u001b[0m\n\u001b[0;32m----> 1\u001b[0m \u001b[39mfrom\u001b[39;00m \u001b[39m.\u001b[39;00m\u001b[39mlightning_task\u001b[39;00m \u001b[39mimport\u001b[39;00m Classification\n",
      "\u001b[0;31mImportError\u001b[0m: attempted relative import with no known parent package"
     ]
    }
   ],
   "source": [
    "from .lightning_task import Classification"
   ]
  },
  {
   "cell_type": "code",
   "execution_count": null,
   "metadata": {},
   "outputs": [],
   "source": []
  }
 ],
 "metadata": {
  "kernelspec": {
   "display_name": "Python 3.9.13 (conda)",
   "language": "python",
   "name": "python3"
  },
  "language_info": {
   "codemirror_mode": {
    "name": "ipython",
    "version": 3
   },
   "file_extension": ".py",
   "mimetype": "text/x-python",
   "name": "python",
   "nbconvert_exporter": "python",
   "pygments_lexer": "ipython3",
   "version": "3.9.13"
  },
  "orig_nbformat": 4,
  "vscode": {
   "interpreter": {
    "hash": "34c766efb3cdeee8674807e33bf5c996af966171af4483c2af6a875a9d38b60a"
   }
  }
 },
 "nbformat": 4,
 "nbformat_minor": 2
}
